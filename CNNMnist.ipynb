{
 "cells": [
  {
   "cell_type": "code",
   "execution_count": 1,
   "metadata": {},
   "outputs": [],
   "source": [
    "import tensorflow as tf\n",
    "from tensorflow import keras\n",
    "\n",
    "model = keras.Sequential()\n",
    "model.add(keras.layers.Conv2D(6, (5,5), input_shape=(32, 32, 1), activation='relu'))\n",
    "model.add(keras.layers.MaxPool2D()) \n",
    "model.add(keras.layers.Conv2D(16, (5,5), activation='relu'))\n",
    "\n",
    "model.add(keras.layers.MaxPool2D()) \n",
    "model.add(keras.layers.Flatten()) \n",
    "\n",
    "model.add(keras.layers.Dense(120, activation='relu'))\n",
    "model.add(keras.layers.Dense(84, activation='relu'))\n",
    "model.add(keras.layers.Dense(10, activation='softmax'))\n",
    "model.compile(loss='sparse_categorical_crossentropy', optimizer='sgd')"
   ]
  },
  {
   "cell_type": "code",
   "execution_count": 2,
   "metadata": {},
   "outputs": [],
   "source": [
    "(Xtrain, Ytrain), (Xtest, Ytest) = keras.datasets.mnist.load_data()\n",
    "Xtrain = Xtrain[:,:,:,None] / 255.\n",
    "Xtest = Xtest[:,:,:,None] / 255.\n",
    "\n",
    "Xtrain = tf.image.resize(Xtrain, (32,32))\n",
    "Xtest = tf.image.resize(Xtest, (32,32))"
   ]
  },
  {
   "cell_type": "code",
   "execution_count": 3,
   "metadata": {},
   "outputs": [
    {
     "name": "stdout",
     "output_type": "stream",
     "text": [
      "Epoch 1/50\n",
      "1875/1875 [==============================] - 16s 9ms/step - loss: 0.5085\n",
      "Epoch 2/50\n",
      "1875/1875 [==============================] - 16s 8ms/step - loss: 0.1457\n",
      "Epoch 3/50\n",
      "1875/1875 [==============================] - 15s 8ms/step - loss: 0.1007\n",
      "Epoch 4/50\n",
      "1875/1875 [==============================] - 15s 8ms/step - loss: 0.0803\n",
      "Epoch 5/50\n",
      "1875/1875 [==============================] - 16s 9ms/step - loss: 0.0664\n",
      "Epoch 6/50\n",
      "1875/1875 [==============================] - 16s 8ms/step - loss: 0.0581\n",
      "Epoch 7/50\n",
      "1875/1875 [==============================] - 15s 8ms/step - loss: 0.0526\n",
      "Epoch 8/50\n",
      "1875/1875 [==============================] - 15s 8ms/step - loss: 0.0475\n",
      "Epoch 9/50\n",
      "1875/1875 [==============================] - 15s 8ms/step - loss: 0.0423\n",
      "Epoch 10/50\n",
      "1875/1875 [==============================] - 15s 8ms/step - loss: 0.0388\n",
      "Epoch 11/50\n",
      "1875/1875 [==============================] - 15s 8ms/step - loss: 0.0359\n",
      "Epoch 12/50\n",
      "1875/1875 [==============================] - 15s 8ms/step - loss: 0.0329\n",
      "Epoch 13/50\n",
      "1875/1875 [==============================] - 15s 8ms/step - loss: 0.0301\n",
      "Epoch 14/50\n",
      "1875/1875 [==============================] - 15s 8ms/step - loss: 0.0290\n",
      "Epoch 15/50\n",
      "1875/1875 [==============================] - 16s 9ms/step - loss: 0.0271\n",
      "Epoch 16/50\n",
      "1875/1875 [==============================] - 16s 8ms/step - loss: 0.0242\n",
      "Epoch 17/50\n",
      "1875/1875 [==============================] - 17s 9ms/step - loss: 0.0229\n",
      "Epoch 18/50\n",
      "1875/1875 [==============================] - 16s 9ms/step - loss: 0.0218\n",
      "Epoch 19/50\n",
      "1875/1875 [==============================] - 17s 9ms/step - loss: 0.0200\n",
      "Epoch 20/50\n",
      "1875/1875 [==============================] - 18s 9ms/step - loss: 0.0182\n",
      "Epoch 21/50\n",
      "1875/1875 [==============================] - 17s 9ms/step - loss: 0.0174\n",
      "Epoch 22/50\n",
      "1875/1875 [==============================] - 18s 10ms/step - loss: 0.0161\n",
      "Epoch 23/50\n",
      "1875/1875 [==============================] - 18s 10ms/step - loss: 0.0150\n",
      "Epoch 24/50\n",
      "1875/1875 [==============================] - 18s 10ms/step - loss: 0.0133\n",
      "Epoch 25/50\n",
      "1875/1875 [==============================] - 17s 9ms/step - loss: 0.0129\n",
      "Epoch 26/50\n",
      "1875/1875 [==============================] - 16s 8ms/step - loss: 0.0119\n",
      "Epoch 27/50\n",
      "1875/1875 [==============================] - 16s 8ms/step - loss: 0.0108\n",
      "Epoch 28/50\n",
      "1875/1875 [==============================] - 16s 9ms/step - loss: 0.0099\n",
      "Epoch 29/50\n",
      "1875/1875 [==============================] - 17s 9ms/step - loss: 0.0093\n",
      "Epoch 30/50\n",
      "1875/1875 [==============================] - 16s 9ms/step - loss: 0.0088\n",
      "Epoch 31/50\n",
      "1875/1875 [==============================] - 16s 9ms/step - loss: 0.0079\n",
      "Epoch 32/50\n",
      "1875/1875 [==============================] - 17s 9ms/step - loss: 0.0081\n",
      "Epoch 33/50\n",
      "1875/1875 [==============================] - 17s 9ms/step - loss: 0.0071\n",
      "Epoch 34/50\n",
      "1875/1875 [==============================] - 16s 9ms/step - loss: 0.0064\n",
      "Epoch 35/50\n",
      "1875/1875 [==============================] - 16s 9ms/step - loss: 0.0053\n",
      "Epoch 36/50\n",
      "1875/1875 [==============================] - 16s 9ms/step - loss: 0.0051\n",
      "Epoch 37/50\n",
      "1875/1875 [==============================] - 17s 9ms/step - loss: 0.0047\n",
      "Epoch 38/50\n",
      "1875/1875 [==============================] - 17s 9ms/step - loss: 0.0046\n",
      "Epoch 39/50\n",
      "1875/1875 [==============================] - 17s 9ms/step - loss: 0.0045\n",
      "Epoch 40/50\n",
      "1875/1875 [==============================] - 16s 9ms/step - loss: 0.0038\n",
      "Epoch 41/50\n",
      "1875/1875 [==============================] - 16s 9ms/step - loss: 0.0041\n",
      "Epoch 42/50\n",
      "1875/1875 [==============================] - 16s 9ms/step - loss: 0.0031\n",
      "Epoch 43/50\n",
      "1875/1875 [==============================] - 16s 9ms/step - loss: 0.0029\n",
      "Epoch 44/50\n",
      "1875/1875 [==============================] - 17s 9ms/step - loss: 0.0030\n",
      "Epoch 45/50\n",
      "1875/1875 [==============================] - 17s 9ms/step - loss: 0.0029\n",
      "Epoch 46/50\n",
      "1875/1875 [==============================] - 17s 9ms/step - loss: 0.0022\n",
      "Epoch 47/50\n",
      "1875/1875 [==============================] - 16s 9ms/step - loss: 0.0018\n",
      "Epoch 48/50\n",
      "1875/1875 [==============================] - 16s 9ms/step - loss: 0.0015\n",
      "Epoch 49/50\n",
      "1875/1875 [==============================] - 16s 9ms/step - loss: 0.0014\n",
      "Epoch 50/50\n",
      "1875/1875 [==============================] - 16s 9ms/step - loss: 0.0013\n"
     ]
    },
    {
     "data": {
      "text/plain": [
       "<tensorflow.python.keras.callbacks.History at 0x2be44c10b50>"
      ]
     },
     "execution_count": 3,
     "metadata": {},
     "output_type": "execute_result"
    }
   ],
   "source": [
    "model.fit(Xtrain, Ytrain, epochs=50)"
   ]
  },
  {
   "cell_type": "code",
   "execution_count": 7,
   "metadata": {
    "scrolled": true
   },
   "outputs": [
    {
     "name": "stdout",
     "output_type": "stream",
     "text": [
      "ความเเม่นยำ 98.81\n"
     ]
    }
   ],
   "source": [
    "import numpy as np\n",
    "Ztest = model.predict(Xtest)\n",
    "print(\"ความเเม่นยำ\",np.sum(Ztest.argmax(axis=1) == Ytest)/len(Ztest)*100)"
   ]
  }
 ],
 "metadata": {
  "kernelspec": {
   "display_name": "Python 3",
   "language": "python",
   "name": "python3"
  },
  "language_info": {
   "codemirror_mode": {
    "name": "ipython",
    "version": 3
   },
   "file_extension": ".py",
   "mimetype": "text/x-python",
   "name": "python",
   "nbconvert_exporter": "python",
   "pygments_lexer": "ipython3",
   "version": "3.8.5"
  }
 },
 "nbformat": 4,
 "nbformat_minor": 4
}
